{
  "nbformat": 4,
  "nbformat_minor": 0,
  "metadata": {
    "colab": {
      "name": "Untitled8.ipynb",
      "provenance": [],
      "authorship_tag": "ABX9TyNjAXj9jRwDC40A5K80KfS1",
      "include_colab_link": true
    },
    "kernelspec": {
      "name": "python3",
      "display_name": "Python 3"
    }
  },
  "cells": [
    {
      "cell_type": "markdown",
      "metadata": {
        "id": "view-in-github",
        "colab_type": "text"
      },
      "source": [
        "<a href=\"https://colab.research.google.com/github/hhk54250/IS20/blob/master/Option%20value%20using%20fast%20fourier%20transform.ipynb\" target=\"_parent\"><img src=\"https://colab.research.google.com/assets/colab-badge.svg\" alt=\"Open In Colab\"/></a>"
      ]
    },
    {
      "cell_type": "code",
      "metadata": {
        "id": "5RqYQQdXP653",
        "colab_type": "code",
        "colab": {}
      },
      "source": [
        "import numpy as np\n",
        "\n",
        "def BSM_characteristic_function(v, x0, T, r, sigma):\n",
        "    cf_value = np.exp(((x0 / T + r - 0.5 * sigma ** 2) * 1j * v\n",
        "                - 0.5 * sigma ** 2 * v ** 2) * T)\n",
        "    return cf_value\n",
        "def BSM_call_characteristic_function(v,alpha, x0, T, r, sigma):\n",
        "    res=np.exp(-r*T)/((alpha+1j*v)*(alpha+1j*v+1))\\\n",
        "        *BSM_characteristic_function((v-(alpha+1)*1j), x0, T, r, sigma)\n",
        "    return res\n",
        "    \n",
        "def SimpsonW(N,eta):\n",
        "    delt = np.zeros(N, dtype=np.float)\n",
        "    delt[0] = 1\n",
        "    j = np.arange(1, N + 1, 1)\n",
        "    SimpsonW = eta*(3 + (-1) ** j - delt) / 3\n",
        "    return SimpsonW\n",
        "    \n",
        "\n",
        "def Simposon_numerical_integrate(S0, K, T, r, sigma):\n",
        "    k = np.log(K)\n",
        "    x0 = np.log(S0)\n",
        "    N=400000\n",
        "    B=100\n",
        "    eta=B/N\n",
        "    W=SimpsonW(N,eta)\n",
        "    \n",
        "    alpha=1.5\n",
        "    sumx=0\n",
        "    for j in range(N):\n",
        "        v_j=j*eta\n",
        "        temp=np.exp(-1j*v_j*k)*\\\n",
        "            BSM_call_characteristic_function(v_j,alpha, x0, T, r, sigma)*\\\n",
        "            W[j]            \n",
        "        sumx+=temp.real\n",
        "\n",
        "        \n",
        "    return sumx*np.exp(-alpha*k)/np.pi"
      ],
      "execution_count": 39,
      "outputs": []
    },
    {
      "cell_type": "code",
      "metadata": {
        "id": "o6flkUKoQBhP",
        "colab_type": "code",
        "colab": {
          "base_uri": "https://localhost:8080/",
          "height": 34
        },
        "outputId": "2556d8c5-99e2-4ce8-a311-281e8280445b"
      },
      "source": [
        "S0 = 100.0  # index level\n",
        "K = 110.0  # option strike\n",
        "T = 1.0  # maturity date\n",
        "r = 0.0475  # risk-less short rate\n",
        "sigma = 0.2  # volatility\n",
        "\n",
        "print (Simposon_numerical_integrate(S0, K, T, r, sigma))"
      ],
      "execution_count": 40,
      "outputs": [
        {
          "output_type": "stream",
          "text": [
            "5.943273183453813\n"
          ],
          "name": "stdout"
        }
      ]
    },
    {
      "cell_type": "code",
      "metadata": {
        "id": "OjH6ZsKjaGIy",
        "colab_type": "code",
        "colab": {
          "base_uri": "https://localhost:8080/",
          "height": 51
        },
        "outputId": "f73f0b28-a920-468d-ca3f-1a9482db581c"
      },
      "source": [
        "%cd~\n",
        "\n",
        "!git clone https://github.com/hhk54250/20MA573-HHK.git \n",
        "pass\n"
      ],
      "execution_count": 41,
      "outputs": [
        {
          "output_type": "stream",
          "text": [
            "/root\n",
            "fatal: destination path '20MA573-HHK' already exists and is not an empty directory.\n"
          ],
          "name": "stdout"
        }
      ]
    },
    {
      "cell_type": "code",
      "metadata": {
        "id": "ISQhrM8EaHx-",
        "colab_type": "code",
        "colab": {
          "base_uri": "https://localhost:8080/",
          "height": 51
        },
        "outputId": "4b38ac81-4544-4fe2-c4f5-9b8ddabc9663"
      },
      "source": [
        "\n",
        "%cd 20MA573-HHK/src/\n",
        "%ls"
      ],
      "execution_count": 42,
      "outputs": [
        {
          "output_type": "stream",
          "text": [
            "/root/20MA573-HHK/src\n",
            "bsm.py  optiondata.dat  prj01.ipynb  prj02.ipynb  \u001b[0m\u001b[01;34m__pycache__\u001b[0m/\n"
          ],
          "name": "stdout"
        }
      ]
    },
    {
      "cell_type": "code",
      "metadata": {
        "id": "nm8aSkBdaLDB",
        "colab_type": "code",
        "colab": {
          "base_uri": "https://localhost:8080/",
          "height": 34
        },
        "outputId": "89625b2c-b316-487d-e45c-542abb4d7d34"
      },
      "source": [
        "from bsm import *\n",
        "\n",
        "\n",
        "'''===============\n",
        "Test bsm_price\n",
        "================='''\n",
        "gbm1 = Gbm(\n",
        "    init_state = 100., \n",
        "    drift_ratio = .0475,\n",
        "    vol_ratio = .2)\n",
        "option1 = VanillaOption(\n",
        "    otype = 1,\n",
        "    strike = 110.,                \n",
        "    maturity = 1.\n",
        ")    \n",
        "\n",
        "print('>>>>>>>>>>call value is ' + str(gbm1.bsm_price(option1)))"
      ],
      "execution_count": 43,
      "outputs": [
        {
          "output_type": "stream",
          "text": [
            ">>>>>>>>>>call value is 5.943273183452838\n"
          ],
          "name": "stdout"
        }
      ]
    },
    {
      "cell_type": "code",
      "metadata": {
        "id": "wZPFM4f5GLyQ",
        "colab_type": "code",
        "colab": {}
      },
      "source": [
        "def fft(FFTFunc):\n",
        "    N=2**10\n",
        "    eta=0.15\n",
        "    lambda_ = 2 * np.pi / (N *eta)\n",
        "    m=3089\n",
        "    sumy=0\n",
        "    for t in range(N):\n",
        "        sum1=np.exp(-1j*lambda_*eta*(t-1)*(m-1))*FFTFunc[t]\n",
        "        sumy=sum1.real+sumy\n",
        "\n",
        "        \n",
        "    return sumy\n",
        "\n",
        "def BSM_call_value_FFT(S0, K, T, r, sigma):\n",
        "    k = np.log(K)\n",
        "    x0 = np.log(S0)\n",
        "    N =2**10\n",
        "    alpha=1.5\n",
        "    \n",
        "    eta=0.15\n",
        "    lambda_ = 2 * np.pi / (N *eta)\n",
        "    beta=x0-lambda_*N/2\n",
        "    km=np.asarray([beta+i*lambda_ for i in range(N)])\n",
        "    W=SimpsonW(N,eta)\n",
        "    v=np.asarray([i*eta for i in range(N)])\n",
        "    Psi=np.asarray([BSM_call_characteristic_function(vj,alpha, x0, T, r, sigma)  for vj in v])\n",
        "    FFTFunc=Psi*np.exp(-1j*beta*v)*W\n",
        "    \n",
        "    \n",
        "    y=fft(FFTFunc).real\n",
        "    \n",
        "    \n",
        "    cT=np.exp(-alpha*km)*y/np.pi\n",
        "    \n",
        "    return cT"
      ],
      "execution_count": 65,
      "outputs": []
    },
    {
      "cell_type": "code",
      "metadata": {
        "id": "qw3IRxSxGNPp",
        "colab_type": "code",
        "colab": {
          "base_uri": "https://localhost:8080/",
          "height": 51
        },
        "outputId": "4fa4e254-46a5-45bb-c348-a6047f0e4556"
      },
      "source": [
        "S0 = 100.0  # index level\n",
        "K = 110.0  # option strike\n",
        "T = 1.0  # maturity date\n",
        "r = 0.0475  # risk-less short rate\n",
        "sigma = 0.2  # volatility\n",
        "BSM_call_value_FFT(S0, K, T, r, sigma)"
      ],
      "execution_count": 66,
      "outputs": [
        {
          "output_type": "execute_result",
          "data": {
            "text/plain": [
              "array([-1.20554780e+13, -1.13380002e+13, -1.06632228e+13, ...,\n",
              "       -7.47482939e-15, -7.02996736e-15, -6.61158116e-15])"
            ]
          },
          "metadata": {
            "tags": []
          },
          "execution_count": 66
        }
      ]
    },
    {
      "cell_type": "code",
      "metadata": {
        "id": "Lg-uSv4g2HK3",
        "colab_type": "code",
        "colab": {
          "base_uri": "https://localhost:8080/",
          "height": 34
        },
        "outputId": "43923e5b-2b0a-4f23-cf8a-593359e7b08c"
      },
      "source": [
        "def BSM_call_value_FFT(S0, K, T, r, sigma):\n",
        "    k = np.log(K)\n",
        "    x0 = np.log(S0)\n",
        "    N =2**12\n",
        "    alpha=1.5\n",
        "    \n",
        "    eta=0.25\n",
        "    lambda_ = 2 * np.pi / (N *eta)\n",
        "    beta=lambda_*N/2\n",
        "    km=np.asarray([beta+i*lambda_ for i in range(N)])\n",
        "    W=SimpsonW(N,eta)\n",
        "    v=np.asarray([i*eta for i in range(N)])\n",
        "    Psi=np.asarray([BSM_call_characteristic_function(vj,alpha, x0, T, r, sigma)  for vj in v])\n",
        "    FFTFunc=Psi*np.exp(1j*beta*v)*W\n",
        "    return FFTFunc\n",
        "S0 = 100.0  # index level\n",
        "K = 110.0  # option strike\n",
        "T = 1.0  # maturity date\n",
        "r = 0.0475  # risk-less short rate\n",
        "sigma = 0.2  # volatility\n",
        "FFTFunc=BSM_call_value_FFT(S0, K, T, r, sigma)\n",
        "\n",
        "t=0\n",
        "alpha=1.5\n",
        "N=2**12\n",
        "eta=0.25\n",
        "lambda_ = 2 * np.pi / (N *eta)\n",
        "m=2814\n",
        "sumy=0\n",
        "for t in range(N):\n",
        "    sum1=FFTFunc[t]*np.exp(-1j*lambda_*eta*t*m)\n",
        "    sumy=sum1.real+sumy\n",
        "sumy\n",
        "cT=np.exp(-alpha*4.700480365792)*sumy/np.pi\n",
        "cT"
      ],
      "execution_count": 104,
      "outputs": [
        {
          "output_type": "execute_result",
          "data": {
            "text/plain": [
              "5.954032841836237"
            ]
          },
          "metadata": {
            "tags": []
          },
          "execution_count": 104
        }
      ]
    }
  ]
}