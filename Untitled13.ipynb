{
  "nbformat": 4,
  "nbformat_minor": 0,
  "metadata": {
    "colab": {
      "name": "Untitled13.ipynb",
      "provenance": [],
      "collapsed_sections": [],
      "authorship_tag": "ABX9TyMsM9UluIYCB/zp5E3SOLld",
      "include_colab_link": true
    },
    "kernelspec": {
      "name": "python3",
      "display_name": "Python 3"
    }
  },
  "cells": [
    {
      "cell_type": "markdown",
      "metadata": {
        "id": "view-in-github",
        "colab_type": "text"
      },
      "source": [
        "<a href=\"https://colab.research.google.com/github/hhk54250/IS20/blob/master/Untitled13.ipynb\" target=\"_parent\"><img src=\"https://colab.research.google.com/assets/colab-badge.svg\" alt=\"Open In Colab\"/></a>"
      ]
    },
    {
      "cell_type": "code",
      "metadata": {
        "id": "J4me3wpkngEO",
        "outputId": "48b062cf-a6b8-4826-8ada-59eb28d7026c",
        "colab": {
          "base_uri": "https://localhost:8080/",
          "height": 425
        }
      },
      "source": [
        "from scipy import *\n",
        "from scipy.integrate import quad\n",
        "\n",
        "def call_price(kappa, theta, sigma, rho, v0 ,r ,T ,s0 ,K):\n",
        "    p1 = __p1(kappa, theta, sigma, rho, v0 ,r ,T ,s0 ,K)\n",
        "    p2 = __p2(kappa, theta, sigma, rho, v0 ,r ,T ,s0 ,K)\n",
        "    return (s0 * p1 - K * exp(-r * T) * p2)\n",
        "\n",
        "\n",
        "def __p(kappa, theta, sigma, rho, v0 ,r ,T ,s0 , K, status):\n",
        "    integrand = lambda phi: ((exp(-1j * phi * log(K)) * \n",
        "    __f(phi, kappa, theta, sigma, rho, v0, r, T, s0, status) / (1j * phi))).real    \n",
        "    return (0.5 + (1 / pi) * quad(integrand, 0, 200)[0])\n",
        "def __p1(kappa, theta, sigma, rho, v0 ,r ,T ,s0 ,K):\n",
        "    return __p(kappa, theta, sigma, rho, v0 ,r ,T ,s0 ,K, 1)\n",
        "def __p2(kappa, theta, sigma, rho, v0 ,r ,T ,s0 ,K):\n",
        "    return __p(kappa, theta, sigma, rho, v0 ,r ,T ,s0 ,K, 2)\n",
        "def __f(phi, kappa, theta, sigma, rho, v0, r, T, s0, status):\n",
        "        \n",
        "    if status == 1:\n",
        "        u = 0.5\n",
        "        b = kappa - rho * sigma\n",
        "    else:\n",
        "        u = -0.5\n",
        "        b = kappa\n",
        "    \n",
        "    a = kappa * theta\n",
        "    x = log(s0)\n",
        "    d = sqrt((rho * sigma * phi * 1j - b)**2 - sigma**2 * (2 * u * phi * 1j - phi**2))\n",
        "    g = (b - rho * sigma * phi * 1j + d) / (b - rho * sigma * phi * 1j - d)\n",
        "    C = r * phi * 1j * T + (a / sigma**2)*((b - rho * sigma * phi * 1j + d) * T - 2 * log((1 - g * exp(d * T))/(1 - g)))\n",
        "    D = (b - rho * sigma * phi * 1j + d) / sigma**2 * ((1 - exp(d * T)) / (1 - g * exp(d * T)))\n",
        "    return exp(C + D * v0 + 1j * phi * x)\n",
        "    \n",
        "    \n",
        "    \n",
        "\n",
        "\n",
        "#maturity\n",
        "T = 10\n",
        "#risk free rate\n",
        "r = 0\n",
        "#long term volatility(equiribrium level)\n",
        "theta = 0.0398\n",
        "#Mean reversion speed of volatility\n",
        "kappa = 1.5768\n",
        "#sigma(volatility of Volatility)\n",
        "sigma = 0.5751\n",
        "#rho\n",
        "rho = -0.5751\n",
        "#Initial stock price\n",
        "s0 = 100\n",
        "#Initial volatility\n",
        "v0 = 0.0175\n",
        "#0.634\n",
        "call_price(kappa, theta, sigma, rho, v0, r, T, s0, 80)\n"
      ],
      "execution_count": 386,
      "outputs": [
        {
          "output_type": "stream",
          "text": [
            "/usr/local/lib/python3.6/dist-packages/ipykernel_launcher.py:12: DeprecationWarning: scipy.log is deprecated and will be removed in SciPy 2.0.0, use numpy.lib.scimath.log instead\n",
            "  if sys.path[0] == '':\n",
            "/usr/local/lib/python3.6/dist-packages/ipykernel_launcher.py:12: DeprecationWarning: scipy.exp is deprecated and will be removed in SciPy 2.0.0, use numpy.exp instead\n",
            "  if sys.path[0] == '':\n",
            "/usr/local/lib/python3.6/dist-packages/ipykernel_launcher.py:28: DeprecationWarning: scipy.log is deprecated and will be removed in SciPy 2.0.0, use numpy.lib.scimath.log instead\n",
            "/usr/local/lib/python3.6/dist-packages/ipykernel_launcher.py:29: DeprecationWarning: scipy.sqrt is deprecated and will be removed in SciPy 2.0.0, use numpy.lib.scimath.sqrt instead\n",
            "/usr/local/lib/python3.6/dist-packages/ipykernel_launcher.py:31: DeprecationWarning: scipy.exp is deprecated and will be removed in SciPy 2.0.0, use numpy.exp instead\n",
            "/usr/local/lib/python3.6/dist-packages/ipykernel_launcher.py:31: DeprecationWarning: scipy.log is deprecated and will be removed in SciPy 2.0.0, use numpy.lib.scimath.log instead\n",
            "/usr/local/lib/python3.6/dist-packages/ipykernel_launcher.py:32: DeprecationWarning: scipy.exp is deprecated and will be removed in SciPy 2.0.0, use numpy.exp instead\n",
            "/usr/local/lib/python3.6/dist-packages/ipykernel_launcher.py:33: DeprecationWarning: scipy.exp is deprecated and will be removed in SciPy 2.0.0, use numpy.exp instead\n",
            "/usr/local/lib/python3.6/dist-packages/scipy/_lib/deprecation.py:20: RuntimeWarning: overflow encountered in exp\n",
            "  return fun(*args, **kwargs)\n",
            "/usr/local/lib/python3.6/dist-packages/ipykernel_launcher.py:31: RuntimeWarning: invalid value encountered in cdouble_scalars\n",
            "/usr/local/lib/python3.6/dist-packages/ipykernel_launcher.py:32: RuntimeWarning: invalid value encountered in cdouble_scalars\n",
            "/usr/local/lib/python3.6/dist-packages/ipykernel_launcher.py:13: IntegrationWarning: The maximum number of subdivisions (50) has been achieved.\n",
            "  If increasing the limit yields no improvement it is advised to analyze \n",
            "  the integrand in order to determine the difficulties.  If the position of a \n",
            "  local difficulty can be determined (singularity, discontinuity) one will \n",
            "  probably gain from splitting up the interval and calling the integrator \n",
            "  on the subranges.  Perhaps a special-purpose integrator should be used.\n",
            "  del sys.path[0]\n",
            "/usr/local/lib/python3.6/dist-packages/ipykernel_launcher.py:7: DeprecationWarning: scipy.exp is deprecated and will be removed in SciPy 2.0.0, use numpy.exp instead\n",
            "  import sys\n"
          ],
          "name": "stderr"
        },
        {
          "output_type": "execute_result",
          "data": {
            "text/plain": [
              "nan"
            ]
          },
          "metadata": {
            "tags": []
          },
          "execution_count": 386
        }
      ]
    },
    {
      "cell_type": "code",
      "metadata": {
        "id": "KTgpCW-NbL_N"
      },
      "source": [
        "def SimpsonW(N,eta):\n",
        "    delt = np.zeros(N, dtype=np.float)\n",
        "    delt[0] = 1\n",
        "    j = np.arange(1, N + 1, 1)\n",
        "    SimpsonW = eta*(3 + (-1) ** j - delt) / 3\n",
        "    return SimpsonW"
      ],
      "execution_count": 16,
      "outputs": []
    },
    {
      "cell_type": "code",
      "metadata": {
        "id": "Kq5tuulGmS0D",
        "outputId": "44a784dc-7c86-41ff-e629-69a3ab546afc",
        "colab": {
          "base_uri": "https://localhost:8080/",
          "height": 238
        }
      },
      "source": [
        "import numpy as np\n",
        "\n",
        "def Heston_call_value_NumpyFFT(s0, K):\n",
        "    k = np.log(K)\n",
        "    x0 = np.log(s0)\n",
        "    N =2**10\n",
        "    alpha=1.5\n",
        "    kappa=1.5768\n",
        "    theta=0.0398\n",
        "    sigma=0.5751\n",
        "    rho=-0.5751\n",
        "    v0=0.0175\n",
        "    r=0\n",
        "    T=10\n",
        "    status=2\n",
        "    eta=0.15\n",
        "    lambda_ = 2 * np.pi / (N *eta)\n",
        "    b=N*lambda_/2\n",
        "    beta=x0-lambda_*N/2\n",
        "    km=np.asarray([beta+i*lambda_ for i in range(N)])\n",
        "    W=SimpsonW(N,eta)\n",
        "    v=np.asarray([i*eta for i in range(N)])\n",
        "    Psi=np.asarray([__f(vj-(alpha+1)*1j, kappa, theta, sigma, rho, v0, r, T, s0, status)  for vj in v])\n",
        "    FFTFunc=np.exp(1j*(b-x0)*v)*((Psi*np.exp(-r*T))/(alpha+alpha**2-v**2+1j*v*(2*alpha+1)))*W\n",
        "    \n",
        "    \n",
        "    y=np.fft.fft(FFTFunc).real\n",
        "    \n",
        "    \n",
        "    cT=np.exp(-alpha*km)*y*eta/np.pi\n",
        "    return cT\n",
        "\n",
        "Heston_call_value_NumpyFFT(100, 20)"
      ],
      "execution_count": 128,
      "outputs": [
        {
          "output_type": "stream",
          "text": [
            "/usr/local/lib/python3.6/dist-packages/ipykernel_launcher.py:28: DeprecationWarning: scipy.log is deprecated and will be removed in SciPy 2.0.0, use numpy.lib.scimath.log instead\n",
            "/usr/local/lib/python3.6/dist-packages/ipykernel_launcher.py:29: DeprecationWarning: scipy.sqrt is deprecated and will be removed in SciPy 2.0.0, use numpy.lib.scimath.sqrt instead\n",
            "/usr/local/lib/python3.6/dist-packages/ipykernel_launcher.py:31: DeprecationWarning: scipy.exp is deprecated and will be removed in SciPy 2.0.0, use numpy.exp instead\n",
            "/usr/local/lib/python3.6/dist-packages/ipykernel_launcher.py:31: DeprecationWarning: scipy.log is deprecated and will be removed in SciPy 2.0.0, use numpy.lib.scimath.log instead\n",
            "/usr/local/lib/python3.6/dist-packages/ipykernel_launcher.py:32: DeprecationWarning: scipy.exp is deprecated and will be removed in SciPy 2.0.0, use numpy.exp instead\n",
            "/usr/local/lib/python3.6/dist-packages/ipykernel_launcher.py:33: DeprecationWarning: scipy.exp is deprecated and will be removed in SciPy 2.0.0, use numpy.exp instead\n",
            "/usr/local/lib/python3.6/dist-packages/ipykernel_launcher.py:31: RuntimeWarning: overflow encountered in cdouble_scalars\n",
            "/usr/local/lib/python3.6/dist-packages/ipykernel_launcher.py:31: RuntimeWarning: invalid value encountered in cdouble_scalars\n",
            "/usr/local/lib/python3.6/dist-packages/ipykernel_launcher.py:32: RuntimeWarning: overflow encountered in cdouble_scalars\n",
            "/usr/local/lib/python3.6/dist-packages/scipy/_lib/deprecation.py:20: RuntimeWarning: overflow encountered in exp\n",
            "  return fun(*args, **kwargs)\n",
            "/usr/local/lib/python3.6/dist-packages/ipykernel_launcher.py:32: RuntimeWarning: invalid value encountered in cdouble_scalars\n"
          ],
          "name": "stderr"
        },
        {
          "output_type": "execute_result",
          "data": {
            "text/plain": [
              "array([nan, nan, nan, ..., nan, nan, nan])"
            ]
          },
          "metadata": {
            "tags": []
          },
          "execution_count": 128
        }
      ]
    },
    {
      "cell_type": "code",
      "metadata": {
        "id": "BQ-coxTLsZwN",
        "outputId": "53f1850d-6a92-4eda-c9b3-876d7152d8b2",
        "colab": {
          "base_uri": "https://localhost:8080/",
          "height": 370
        }
      },
      "source": [
        "import matplotlib.pyplot as plt\n",
        "s0=100\n",
        "K=80\n",
        "k = np.log(K)\n",
        "x0 = np.log(s0)\n",
        "N =2**10\n",
        "alpha=0.0072\n",
        "kappa=1.5768\n",
        "theta=0.0398\n",
        "sigma=0.5751\n",
        "rho=-0.5751\n",
        "v0=0.0175\n",
        "r=0\n",
        "T=10\n",
        "status=2\n",
        "eta=0.14\n",
        "lambda_ = 2 * np.pi / (N *eta)\n",
        "b=N*lambda_/2\n",
        "beta=x0-lambda_*N/2\n",
        "km=np.asarray([beta+i*lambda_ for i in range(N)])\n",
        "W=SimpsonW(N,eta)\n",
        "v=np.asarray([i*eta for i in range(N)])\n",
        "Psi=np.asarray([__f(vj-(alpha+1)*1j,kappa, theta, sigma, rho, v0, r, T, s0, status)  for vj in v])\n",
        "FFTFunc=np.exp(1j*(b-x0)*v)*((Psi*np.exp(-r*T))/(alpha+alpha**2-v**2+1j*v*(2*alpha+1)))*W\n",
        "    \n",
        "    \n",
        "y=np.fft.fft(FFTFunc).real\n",
        "    \n",
        "    \n",
        "cT=np.exp(-alpha*km)*y*eta/np.pi\n",
        "\n",
        "\n",
        "plt.plot(cT[420:500])\n",
        "\n",
        "k=np.asarray([np.e**(beta+lambda_*n) for n in range(N)])\n",
        "\n",
        "\n"
      ],
      "execution_count": 373,
      "outputs": [
        {
          "output_type": "stream",
          "text": [
            "/usr/local/lib/python3.6/dist-packages/ipykernel_launcher.py:28: DeprecationWarning: scipy.log is deprecated and will be removed in SciPy 2.0.0, use numpy.lib.scimath.log instead\n",
            "/usr/local/lib/python3.6/dist-packages/ipykernel_launcher.py:29: DeprecationWarning: scipy.sqrt is deprecated and will be removed in SciPy 2.0.0, use numpy.lib.scimath.sqrt instead\n",
            "/usr/local/lib/python3.6/dist-packages/ipykernel_launcher.py:31: DeprecationWarning: scipy.exp is deprecated and will be removed in SciPy 2.0.0, use numpy.exp instead\n",
            "/usr/local/lib/python3.6/dist-packages/ipykernel_launcher.py:31: DeprecationWarning: scipy.log is deprecated and will be removed in SciPy 2.0.0, use numpy.lib.scimath.log instead\n",
            "/usr/local/lib/python3.6/dist-packages/ipykernel_launcher.py:32: DeprecationWarning: scipy.exp is deprecated and will be removed in SciPy 2.0.0, use numpy.exp instead\n",
            "/usr/local/lib/python3.6/dist-packages/ipykernel_launcher.py:33: DeprecationWarning: scipy.exp is deprecated and will be removed in SciPy 2.0.0, use numpy.exp instead\n"
          ],
          "name": "stderr"
        },
        {
          "output_type": "display_data",
          "data": {
            "image/png": "[encoded data removed]",
            "text/plain": [
              "<Figure size 432x288 with 1 Axes>"
            ]
          },
          "metadata": {
            "tags": [],
            "needs_background": "light"
          }
        }
      ]
    },
    {
      "cell_type": "code",
      "metadata": {
        "id": "V9vyaMyD3Mw0",
        "outputId": "615f2f0c-36b9-4725-fcb9-8e642c4930ca",
        "colab": {
          "base_uri": "https://localhost:8080/",
          "height": 605
        }
      },
      "source": [
        "t=[]\n",
        "for i in range(420,500):\n",
        "  t.append(call_price(kappa, theta, sigma, rho, v0, r, T, s0, k[i]))\n",
        "plt.plot(t)"
      ],
      "execution_count": 374,
      "outputs": [
        {
          "output_type": "stream",
          "text": [
            "/usr/local/lib/python3.6/dist-packages/ipykernel_launcher.py:12: DeprecationWarning: scipy.log is deprecated and will be removed in SciPy 2.0.0, use numpy.lib.scimath.log instead\n",
            "  if sys.path[0] == '':\n",
            "/usr/local/lib/python3.6/dist-packages/ipykernel_launcher.py:12: DeprecationWarning: scipy.exp is deprecated and will be removed in SciPy 2.0.0, use numpy.exp instead\n",
            "  if sys.path[0] == '':\n",
            "/usr/local/lib/python3.6/dist-packages/ipykernel_launcher.py:28: DeprecationWarning: scipy.log is deprecated and will be removed in SciPy 2.0.0, use numpy.lib.scimath.log instead\n",
            "/usr/local/lib/python3.6/dist-packages/ipykernel_launcher.py:29: DeprecationWarning: scipy.sqrt is deprecated and will be removed in SciPy 2.0.0, use numpy.lib.scimath.sqrt instead\n",
            "/usr/local/lib/python3.6/dist-packages/ipykernel_launcher.py:31: DeprecationWarning: scipy.exp is deprecated and will be removed in SciPy 2.0.0, use numpy.exp instead\n",
            "/usr/local/lib/python3.6/dist-packages/ipykernel_launcher.py:31: DeprecationWarning: scipy.log is deprecated and will be removed in SciPy 2.0.0, use numpy.lib.scimath.log instead\n",
            "/usr/local/lib/python3.6/dist-packages/ipykernel_launcher.py:32: DeprecationWarning: scipy.exp is deprecated and will be removed in SciPy 2.0.0, use numpy.exp instead\n",
            "/usr/local/lib/python3.6/dist-packages/ipykernel_launcher.py:33: DeprecationWarning: scipy.exp is deprecated and will be removed in SciPy 2.0.0, use numpy.exp instead\n",
            "/usr/local/lib/python3.6/dist-packages/ipykernel_launcher.py:13: IntegrationWarning: The maximum number of subdivisions (50) has been achieved.\n",
            "  If increasing the limit yields no improvement it is advised to analyze \n",
            "  the integrand in order to determine the difficulties.  If the position of a \n",
            "  local difficulty can be determined (singularity, discontinuity) one will \n",
            "  probably gain from splitting up the interval and calling the integrator \n",
            "  on the subranges.  Perhaps a special-purpose integrator should be used.\n",
            "  del sys.path[0]\n",
            "/usr/local/lib/python3.6/dist-packages/ipykernel_launcher.py:7: DeprecationWarning: scipy.exp is deprecated and will be removed in SciPy 2.0.0, use numpy.exp instead\n",
            "  import sys\n"
          ],
          "name": "stderr"
        },
        {
          "output_type": "execute_result",
          "data": {
            "text/plain": [
              "[<matplotlib.lines.Line2D at 0x7fc657c46780>]"
            ]
          },
          "metadata": {
            "tags": []
          },
          "execution_count": 374
        },
        {
          "output_type": "display_data",
          "data": {
            "image/png": "[encoded data removed]",
            "text/plain": [
              "<Figure size 432x288 with 1 Axes>"
            ]
          },
          "metadata": {
            "tags": [],
            "needs_background": "light"
          }
        }
      ]
    },
    {
      "cell_type": "code",
      "metadata": {
        "id": "AjSWhq_TIdVb",
        "outputId": "646679b7-af7d-4e32-99a7-ddf256431bfc",
        "colab": {
          "base_uri": "https://localhost:8080/",
          "height": 119
        }
      },
      "source": [
        "from scipy import optimize\n",
        "y1=(sigma-2*kappa*rho+np.sqrt(sigma**2-4*kappa*rho*sigma+4*kappa**2))/(2*sigma*(1-rho**2))\n",
        "y2=(sigma-2*kappa*rho-np.sqrt(sigma**2-4*kappa*rho*sigma+4*kappa**2))/(2*sigma*(1-rho**2))\n",
        "\n",
        "def f(alpha):\n",
        "    K=np.log(80)\n",
        "    t2=0\n",
        "    for i in range(len(v)):\n",
        "      t=(0.5*np.log((np.exp(1j*K*v[i])*((Psi[i]*np.exp(-r*T))/(alpha+alpha**2-v[i]**2+1j*v[i]*(2*alpha+1)))).real**2)-alpha*K)**2\n",
        "      t2=t+t2 \n",
        "    return t2\n",
        "\n",
        "\n",
        "min2=optimize.fmin(f, f(y1))"
      ],
      "execution_count": 343,
      "outputs": [
        {
          "output_type": "stream",
          "text": [
            "Optimization terminated successfully.\n",
            "         Current function value: 1722443.504925\n",
            "         Iterations: 78\n",
            "         Function evaluations: 158\n"
          ],
          "name": "stdout"
        },
        {
          "output_type": "stream",
          "text": [
            "/usr/local/lib/python3.6/dist-packages/ipykernel_launcher.py:9: RuntimeWarning: divide by zero encountered in log\n",
            "  if __name__ == '__main__':\n"
          ],
          "name": "stderr"
        }
      ]
    },
    {
      "cell_type": "code",
      "metadata": {
        "id": "Rzr5pw2SaGHb",
        "outputId": "e19eba37-9a43-426e-a452-62cdbcf2d4df",
        "colab": {
          "base_uri": "https://localhost:8080/",
          "height": 293
        }
      },
      "source": [
        "import matplotlib.pyplot as plt\n",
        "import numpy as np\n",
        " \n",
        "alpha = np.arange(y2, y1, 0.001)\n",
        " \n",
        "plt.plot(alpha, f(alpha))\n",
        " \n",
        "plt.show()\n",
        "\n",
        "y2"
      ],
      "execution_count": 355,
      "outputs": [
        {
          "output_type": "display_data",
          "data": {
            "image/png": "[encoded data removed]",
            "text/plain": [
              "<Figure size 432x288 with 1 Axes>"
            ]
          },
          "metadata": {
            "tags": [],
            "needs_background": "light"
          }
        },
        {
          "output_type": "execute_result",
          "data": {
            "text/plain": [
              "-1.4643413880437832"
            ]
          },
          "metadata": {
            "tags": []
          },
          "execution_count": 355
        }
      ]
    },
    {
      "cell_type": "code",
      "metadata": {
        "id": "_t0xYHItaIDU",
        "outputId": "49ba68ba-3dc6-429a-9ec4-f25384ef5836",
        "colab": {
          "base_uri": "https://localhost:8080/",
          "height": 34
        }
      },
      "source": [
        ""
      ],
      "execution_count": 353,
      "outputs": [
        {
          "output_type": "execute_result",
          "data": {
            "text/plain": [
              "7.670599138488419"
            ]
          },
          "metadata": {
            "tags": []
          },
          "execution_count": 353
        }
      ]
    },
    {
      "cell_type": "code",
      "metadata": {
        "id": "6viDtG5VbIyI"
      },
      "source": [
        ""
      ],
      "execution_count": null,
      "outputs": []
    }
  ]
}