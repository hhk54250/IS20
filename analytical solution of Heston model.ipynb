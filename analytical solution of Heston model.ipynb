{
  "nbformat": 4,
  "nbformat_minor": 0,
  "metadata": {
    "colab": {
      "name": "Untitled13.ipynb",
      "provenance": [],
      "authorship_tag": "ABX9TyOSuXjvUMQVXTLmHQWMjH+A",
      "include_colab_link": true
    },
    "kernelspec": {
      "name": "python3",
      "display_name": "Python 3"
    }
  },
  "cells": [
    {
      "cell_type": "markdown",
      "metadata": {
        "id": "view-in-github",
        "colab_type": "text"
      },
      "source": [
        "<a href=\"https://colab.research.google.com/github/hhk54250/IS20/blob/master/analytical%20solution%20of%20Heston%20model.ipynb\" target=\"_parent\"><img src=\"https://colab.research.google.com/assets/colab-badge.svg\" alt=\"Open In Colab\"/></a>"
      ]
    },
    {
      "cell_type": "code",
      "metadata": {
        "id": "J4me3wpkngEO",
        "outputId": "02499d47-9309-4d9c-8cbb-2776f8073f8b",
        "colab": {
          "base_uri": "https://localhost:8080/",
          "height": 357
        }
      },
      "source": [
        "from scipy import *\n",
        "from scipy.integrate import quad\n",
        "\n",
        "def call_price(kappa, theta, sigma, rho, v0 ,r ,T ,s0 ,K):\n",
        "    p1 = __p1(kappa, theta, sigma, rho, v0 ,r ,T ,s0 ,K)\n",
        "    p2 = __p2(kappa, theta, sigma, rho, v0 ,r ,T ,s0 ,K)\n",
        "    return (s0 * p1 - K * exp(-r * T) * p2)\n",
        "\n",
        "\n",
        "def __p(kappa, theta, sigma, rho, v0 ,r ,T ,s0 , K, status):\n",
        "    integrand = lambda phi: (exp(-1j * phi * log(K)) * \n",
        "    __f(phi, kappa, theta, sigma, rho, v0, r, T, s0, status) / (1j * phi)).real    \n",
        "    return (0.5 + (1 / pi) * quad(integrand, 0, 100)[0])\n",
        "def __p1(kappa, theta, sigma, rho, v0 ,r ,T ,s0 ,K):\n",
        "    return __p(kappa, theta, sigma, rho, v0 ,r ,T ,s0 ,K, 1)\n",
        "def __p2(kappa, theta, sigma, rho, v0 ,r ,T ,s0 ,K):\n",
        "    return __p(kappa, theta, sigma, rho, v0 ,r ,T ,s0 ,K, 2)\n",
        "def __f(phi, kappa, theta, sigma, rho, v0, r, T, s0, status):\n",
        "        \n",
        "    if status == 1:\n",
        "        u = 0.5\n",
        "        b = kappa - rho * sigma\n",
        "    else:\n",
        "        u = -0.5\n",
        "        b = kappa\n",
        "    \n",
        "    a = kappa * theta\n",
        "    x = log(s0)\n",
        "    d = sqrt((rho * sigma * phi * 1j - b)**2 - sigma**2 * (2 * u * phi * 1j - phi**2))\n",
        "    g = (b - rho * sigma * phi * 1j + d) / (b - rho * sigma * phi * 1j - d)\n",
        "    C = r * phi * 1j * T + (a / sigma**2)*((b - rho * sigma * phi * 1j + d) * T - 2 * log((1 - g * exp(d * T))/(1 - g)))\n",
        "    D = (b - rho * sigma * phi * 1j + d) / sigma**2 * ((1 - exp(d * T)) / (1 - g * exp(d * T)))\n",
        "    return exp(C + D * v0 + 1j * phi * x)\n",
        "    \n",
        "    \n",
        "    \n",
        "\n",
        "\n",
        "#maturity\n",
        "T = 10\n",
        "#risk free rate\n",
        "r = 0\n",
        "#long term volatility(equiribrium level)\n",
        "theta = 0.0398\n",
        "#Mean reversion speed of volatility\n",
        "kappa = 1.5768\n",
        "#sigma(volatility of Volatility)\n",
        "sigma = 0.5751\n",
        "#rho\n",
        "rho = -0.5751\n",
        "#Initial stock price\n",
        "s0 = 100\n",
        "#Initial volatility\n",
        "v0 = 0.0175\n",
        "#0.634\n",
        "call_price(kappa, theta, sigma, rho, v0, r, T, s0, 80)\n"
      ],
      "execution_count": 6,
      "outputs": [
        {
          "output_type": "stream",
          "text": [
            "/usr/local/lib/python3.6/dist-packages/ipykernel_launcher.py:12: DeprecationWarning: scipy.log is deprecated and will be removed in SciPy 2.0.0, use numpy.lib.scimath.log instead\n",
            "  if sys.path[0] == '':\n",
            "/usr/local/lib/python3.6/dist-packages/ipykernel_launcher.py:12: DeprecationWarning: scipy.exp is deprecated and will be removed in SciPy 2.0.0, use numpy.exp instead\n",
            "  if sys.path[0] == '':\n",
            "/usr/local/lib/python3.6/dist-packages/ipykernel_launcher.py:28: DeprecationWarning: scipy.log is deprecated and will be removed in SciPy 2.0.0, use numpy.lib.scimath.log instead\n",
            "/usr/local/lib/python3.6/dist-packages/ipykernel_launcher.py:29: DeprecationWarning: scipy.sqrt is deprecated and will be removed in SciPy 2.0.0, use numpy.lib.scimath.sqrt instead\n",
            "/usr/local/lib/python3.6/dist-packages/ipykernel_launcher.py:31: DeprecationWarning: scipy.exp is deprecated and will be removed in SciPy 2.0.0, use numpy.exp instead\n",
            "/usr/local/lib/python3.6/dist-packages/ipykernel_launcher.py:31: DeprecationWarning: scipy.log is deprecated and will be removed in SciPy 2.0.0, use numpy.lib.scimath.log instead\n",
            "/usr/local/lib/python3.6/dist-packages/ipykernel_launcher.py:32: DeprecationWarning: scipy.exp is deprecated and will be removed in SciPy 2.0.0, use numpy.exp instead\n",
            "/usr/local/lib/python3.6/dist-packages/ipykernel_launcher.py:33: DeprecationWarning: scipy.exp is deprecated and will be removed in SciPy 2.0.0, use numpy.exp instead\n",
            "/usr/local/lib/python3.6/dist-packages/ipykernel_launcher.py:13: IntegrationWarning: The maximum number of subdivisions (50) has been achieved.\n",
            "  If increasing the limit yields no improvement it is advised to analyze \n",
            "  the integrand in order to determine the difficulties.  If the position of a \n",
            "  local difficulty can be determined (singularity, discontinuity) one will \n",
            "  probably gain from splitting up the interval and calling the integrator \n",
            "  on the subranges.  Perhaps a special-purpose integrator should be used.\n",
            "  del sys.path[0]\n",
            "/usr/local/lib/python3.6/dist-packages/ipykernel_launcher.py:7: DeprecationWarning: scipy.exp is deprecated and will be removed in SciPy 2.0.0, use numpy.exp instead\n",
            "  import sys\n"
          ],
          "name": "stderr"
        },
        {
          "output_type": "execute_result",
          "data": {
            "text/plain": [
              "8.820532836382348"
            ]
          },
          "metadata": {
            "tags": []
          },
          "execution_count": 6
        }
      ]
    }
  ]
}